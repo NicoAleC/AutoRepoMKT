{
 "cells": [
  {
   "cell_type": "code",
   "execution_count": 1,
   "id": "c8c79baf-bc3a-4f19-aec7-61f5714ffa0b",
   "metadata": {
    "scrolled": true
   },
   "outputs": [
    {
     "ename": "ModuleNotFoundError",
     "evalue": "No module named 'termios'",
     "output_type": "error",
     "traceback": [
      "\u001b[1;31m---------------------------------------------------------------------------\u001b[0m",
      "\u001b[1;31mModuleNotFoundError\u001b[0m                       Traceback (most recent call last)",
      "Cell \u001b[1;32mIn[1], line 4\u001b[0m\n\u001b[0;32m      2\u001b[0m \u001b[38;5;28;01mimport\u001b[39;00m \u001b[38;5;21;01mpandas\u001b[39;00m \u001b[38;5;28;01mas\u001b[39;00m \u001b[38;5;21;01mpd\u001b[39;00m\n\u001b[0;32m      3\u001b[0m \u001b[38;5;28;01mfrom\u001b[39;00m \u001b[38;5;21;01mdatetime\u001b[39;00m \u001b[38;5;28;01mimport\u001b[39;00m datetime\n\u001b[1;32m----> 4\u001b[0m \u001b[38;5;28;01mfrom\u001b[39;00m \u001b[38;5;21;01mgoogle\u001b[39;00m\u001b[38;5;21;01m.\u001b[39;00m\u001b[38;5;21;01mcolab\u001b[39;00m \u001b[38;5;28;01mimport\u001b[39;00m auth\n\u001b[0;32m      5\u001b[0m \u001b[38;5;28;01mfrom\u001b[39;00m \u001b[38;5;21;01mgoogle\u001b[39;00m\u001b[38;5;21;01m.\u001b[39;00m\u001b[38;5;21;01mauth\u001b[39;00m \u001b[38;5;28;01mimport\u001b[39;00m default\n\u001b[0;32m      7\u001b[0m auth\u001b[38;5;241m.\u001b[39mauthenticate_user()\n",
      "File \u001b[1;32mC:\\ProgramData\\anaconda3\\Lib\\site-packages\\google\\colab\\__init__.py:23\u001b[0m\n\u001b[0;32m     21\u001b[0m \u001b[38;5;28;01mfrom\u001b[39;00m \u001b[38;5;21;01mgoogle\u001b[39;00m\u001b[38;5;21;01m.\u001b[39;00m\u001b[38;5;21;01mcolab\u001b[39;00m \u001b[38;5;28;01mimport\u001b[39;00m _installation_commands\n\u001b[0;32m     22\u001b[0m \u001b[38;5;28;01mfrom\u001b[39;00m \u001b[38;5;21;01mgoogle\u001b[39;00m\u001b[38;5;21;01m.\u001b[39;00m\u001b[38;5;21;01mcolab\u001b[39;00m \u001b[38;5;28;01mimport\u001b[39;00m _shell_customizations\n\u001b[1;32m---> 23\u001b[0m \u001b[38;5;28;01mfrom\u001b[39;00m \u001b[38;5;21;01mgoogle\u001b[39;00m\u001b[38;5;21;01m.\u001b[39;00m\u001b[38;5;21;01mcolab\u001b[39;00m \u001b[38;5;28;01mimport\u001b[39;00m _system_commands\n\u001b[0;32m     24\u001b[0m \u001b[38;5;28;01mfrom\u001b[39;00m \u001b[38;5;21;01mgoogle\u001b[39;00m\u001b[38;5;21;01m.\u001b[39;00m\u001b[38;5;21;01mcolab\u001b[39;00m \u001b[38;5;28;01mimport\u001b[39;00m _tensorflow_magics\n\u001b[0;32m     25\u001b[0m \u001b[38;5;28;01mfrom\u001b[39;00m \u001b[38;5;21;01mgoogle\u001b[39;00m\u001b[38;5;21;01m.\u001b[39;00m\u001b[38;5;21;01mcolab\u001b[39;00m \u001b[38;5;28;01mimport\u001b[39;00m auth\n",
      "File \u001b[1;32mC:\\ProgramData\\anaconda3\\Lib\\site-packages\\google\\colab\\_system_commands.py:24\u001b[0m\n\u001b[0;32m     22\u001b[0m \u001b[38;5;28;01mimport\u001b[39;00m \u001b[38;5;21;01mlocale\u001b[39;00m\n\u001b[0;32m     23\u001b[0m \u001b[38;5;28;01mimport\u001b[39;00m \u001b[38;5;21;01mos\u001b[39;00m\n\u001b[1;32m---> 24\u001b[0m \u001b[38;5;28;01mimport\u001b[39;00m \u001b[38;5;21;01mpty\u001b[39;00m\n\u001b[0;32m     25\u001b[0m \u001b[38;5;28;01mimport\u001b[39;00m \u001b[38;5;21;01mselect\u001b[39;00m\n\u001b[0;32m     26\u001b[0m \u001b[38;5;28;01mimport\u001b[39;00m \u001b[38;5;21;01msignal\u001b[39;00m\n",
      "File \u001b[1;32mC:\\ProgramData\\anaconda3\\Lib\\pty.py:12\u001b[0m\n\u001b[0;32m     10\u001b[0m \u001b[38;5;28;01mimport\u001b[39;00m \u001b[38;5;21;01mos\u001b[39;00m\n\u001b[0;32m     11\u001b[0m \u001b[38;5;28;01mimport\u001b[39;00m \u001b[38;5;21;01msys\u001b[39;00m\n\u001b[1;32m---> 12\u001b[0m \u001b[38;5;28;01mimport\u001b[39;00m \u001b[38;5;21;01mtty\u001b[39;00m\n\u001b[0;32m     14\u001b[0m \u001b[38;5;66;03m# names imported directly for test mocking purposes\u001b[39;00m\n\u001b[0;32m     15\u001b[0m \u001b[38;5;28;01mfrom\u001b[39;00m \u001b[38;5;21;01mos\u001b[39;00m \u001b[38;5;28;01mimport\u001b[39;00m close, waitpid\n",
      "File \u001b[1;32mC:\\ProgramData\\anaconda3\\Lib\\tty.py:5\u001b[0m\n\u001b[0;32m      1\u001b[0m \u001b[38;5;124;03m\"\"\"Terminal utilities.\"\"\"\u001b[39;00m\n\u001b[0;32m      3\u001b[0m \u001b[38;5;66;03m# Author: Steen Lumholt.\u001b[39;00m\n\u001b[1;32m----> 5\u001b[0m \u001b[38;5;28;01mfrom\u001b[39;00m \u001b[38;5;21;01mtermios\u001b[39;00m \u001b[38;5;28;01mimport\u001b[39;00m \u001b[38;5;241m*\u001b[39m\n\u001b[0;32m      7\u001b[0m __all__ \u001b[38;5;241m=\u001b[39m [\u001b[38;5;124m\"\u001b[39m\u001b[38;5;124msetraw\u001b[39m\u001b[38;5;124m\"\u001b[39m, \u001b[38;5;124m\"\u001b[39m\u001b[38;5;124msetcbreak\u001b[39m\u001b[38;5;124m\"\u001b[39m]\n\u001b[0;32m      9\u001b[0m \u001b[38;5;66;03m# Indexes for termios list.\u001b[39;00m\n",
      "\u001b[1;31mModuleNotFoundError\u001b[0m: No module named 'termios'"
     ]
    }
   ],
   "source": [
    "import gspread\n",
    "import pandas as pd\n",
    "from datetime import datetime\n",
    "from google.colab import auth\n",
    "from google.auth import default\n",
    "\n",
    "auth.authenticate_user()\n",
    "\n",
    "creds, _ = default()\n",
    "gc = gspread.authorize(creds)\n",
    "\n",
    "gs = gc.open('DBS REPORTE DE VENTAS').worksheet('REGISTRO')\n",
    "data = gs.get_all_values()\n",
    "headers = data.pop(0)\n",
    "df = pd.DataFrame(data, columns=headers)\n",
    "df.columns = df.iloc[0]\n",
    "df = df[1:]\n",
    "#df.reset_index(drop=True, inplace=True)\n",
    "df = df.iloc[:,1:-7]\n",
    "df.drop(df[df['NOMBRE ASESOR(A)'] == ''].index, inplace = True)\n",
    "df = df.loc[:, ['PERIODO',\n",
    "           'NOMBRE ASESOR(A)', # No entra a la tabla\n",
    "           'UNIDAD DE NEGOCIO CORRESPONDIENTE',\n",
    "           'NOMBRE PROGRAMA',\n",
    "           'NOMBRE INSCRITO',\n",
    "           'FECHA DE INSCRIPCION PORTAL',\n",
    "           'PROMOCIONES',\n",
    "           'CANTIDAD DE CUOTAS',\n",
    "           'COLEGIATURA A RECOLECTAR (SOLO MONTO COLEGIATURA)',\n",
    "           'M FECHA RECIBO',\n",
    "           'M N° RECIBO',\n",
    "           'M MONTO RECIBO',\n",
    "           'C FECHA RECIBO',\n",
    "           'C MONTO RECIBO',\n",
    "           'C N° RECIBO',\n",
    "           'CORRESP A META DE SUELDO?',\n",
    "           'COMISION SEGUN TABLA',\n",
    "           'COMISION PLAN CONTADO',\n",
    "           'TOTAL COMISION',\n",
    "          ]\n",
    "    ]"
   ]
  },
  {
   "cell_type": "code",
   "execution_count": null,
   "id": "428d102d-f01b-44e8-b263-d6163379b8a0",
   "metadata": {},
   "outputs": [],
   "source": [
    "año = '2023'\n",
    "mes = '08'\n",
    "asesor = 'Margot'\n",
    "asesor = asesor.upper()\n",
    "df['PERIODO'] = pd.to_datetime(df['PERIODO'])"
   ]
  },
  {
   "cell_type": "code",
   "execution_count": null,
   "id": "b5a4ddcf-da69-481d-9908-eae4cc4c74ac",
   "metadata": {},
   "outputs": [],
   "source": [
    "reporte = df.loc[(df['PERIODO'] == f'1/{mes}/{año}') & (df['NOMBRE ASESOR(A)'].str.contains(asesor))]\n",
    "reporte = reporte.sort_values('UNIDAD DE NEGOCIO CORRESPONDIENTE', ascending=True)\n",
    "reporte.reset_index(drop=True, inplace=True)\n",
    "reporte.index += 1\n",
    "reporte['N°'] = reporte.index\n",
    "col_indices = reporte['N°']\n",
    "reporte = reporte.drop(columns=['N°'])\n",
    "reporte.insert(0, 'N°', col_indices)\n",
    "reporte.reset_index(drop=True)\n",
    "reporte"
   ]
  },
  {
   "cell_type": "code",
   "execution_count": null,
   "id": "394f0d1a-214d-414f-9df9-998117027e50",
   "metadata": {},
   "outputs": [],
   "source": [
    "reporte_dict = reporte.to_dict(orient='index')\n",
    "reporte_list = [fila for key, fila in reporte_dict.items()]\n",
    "reporte_list"
   ]
  }
 ],
 "metadata": {
  "kernelspec": {
   "display_name": "Python 3 (ipykernel)",
   "language": "python",
   "name": "python3"
  },
  "language_info": {
   "codemirror_mode": {
    "name": "ipython",
    "version": 3
   },
   "file_extension": ".py",
   "mimetype": "text/x-python",
   "name": "python",
   "nbconvert_exporter": "python",
   "pygments_lexer": "ipython3",
   "version": "3.11.4"
  }
 },
 "nbformat": 4,
 "nbformat_minor": 5
}
